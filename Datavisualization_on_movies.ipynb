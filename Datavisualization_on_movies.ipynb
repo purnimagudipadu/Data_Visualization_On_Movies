{
 "cells": [
  {
   "cell_type": "code",
   "execution_count": 1,
   "id": "9f5bed6c",
   "metadata": {},
   "outputs": [],
   "source": [
    "import numpy as np\n",
    "import pandas as pd\n",
    "import matplotlib.pyplot as plt\n",
    "import seaborn as sns"
   ]
  },
  {
   "cell_type": "code",
   "execution_count": 4,
   "id": "9b7d6e4a",
   "metadata": {},
   "outputs": [
    {
     "data": {
      "text/html": [
       "<div>\n",
       "<style scoped>\n",
       "    .dataframe tbody tr th:only-of-type {\n",
       "        vertical-align: middle;\n",
       "    }\n",
       "\n",
       "    .dataframe tbody tr th {\n",
       "        vertical-align: top;\n",
       "    }\n",
       "\n",
       "    .dataframe thead th {\n",
       "        text-align: right;\n",
       "    }\n",
       "</style>\n",
       "<table border=\"1\" class=\"dataframe\">\n",
       "  <thead>\n",
       "    <tr style=\"text-align: right;\">\n",
       "      <th></th>\n",
       "      <th>Title</th>\n",
       "      <th>Year</th>\n",
       "      <th>Genre</th>\n",
       "      <th>Duration</th>\n",
       "      <th>Director</th>\n",
       "      <th>Rating</th>\n",
       "      <th>Popularity</th>\n",
       "    </tr>\n",
       "  </thead>\n",
       "  <tbody>\n",
       "    <tr>\n",
       "      <th>0</th>\n",
       "      <td>What Is It?</td>\n",
       "      <td>2005</td>\n",
       "      <td>Drama</td>\n",
       "      <td>72</td>\n",
       "      <td>Crispin Glover</td>\n",
       "      <td>5.6</td>\n",
       "      <td>21.83</td>\n",
       "    </tr>\n",
       "    <tr>\n",
       "      <th>1</th>\n",
       "      <td>Glitter</td>\n",
       "      <td>2001</td>\n",
       "      <td>Drama</td>\n",
       "      <td>104</td>\n",
       "      <td>Vondie Curtis-Hall</td>\n",
       "      <td>2.2</td>\n",
       "      <td>81.69</td>\n",
       "    </tr>\n",
       "    <tr>\n",
       "      <th>2</th>\n",
       "      <td>The Attic Expeditions</td>\n",
       "      <td>2001</td>\n",
       "      <td>Comedy</td>\n",
       "      <td>100</td>\n",
       "      <td>Jeremy Kasten</td>\n",
       "      <td>5.0</td>\n",
       "      <td>42.08</td>\n",
       "    </tr>\n",
       "    <tr>\n",
       "      <th>3</th>\n",
       "      <td>Men in Black II</td>\n",
       "      <td>2002</td>\n",
       "      <td>Action</td>\n",
       "      <td>88</td>\n",
       "      <td>Barry Sonnenfeld</td>\n",
       "      <td>6.2</td>\n",
       "      <td>98.60</td>\n",
       "    </tr>\n",
       "    <tr>\n",
       "      <th>4</th>\n",
       "      <td>Star Wars: Episode II - Attack of the Clones</td>\n",
       "      <td>2002</td>\n",
       "      <td>Action</td>\n",
       "      <td>142</td>\n",
       "      <td>George Lucas</td>\n",
       "      <td>6.5</td>\n",
       "      <td>99.58</td>\n",
       "    </tr>\n",
       "    <tr>\n",
       "      <th>...</th>\n",
       "      <td>...</td>\n",
       "      <td>...</td>\n",
       "      <td>...</td>\n",
       "      <td>...</td>\n",
       "      <td>...</td>\n",
       "      <td>...</td>\n",
       "      <td>...</td>\n",
       "    </tr>\n",
       "    <tr>\n",
       "      <th>5270</th>\n",
       "      <td>Bloodline</td>\n",
       "      <td>2018</td>\n",
       "      <td>Crime</td>\n",
       "      <td>97</td>\n",
       "      <td>Henry Jacobson</td>\n",
       "      <td>6.0</td>\n",
       "      <td>64.69</td>\n",
       "    </tr>\n",
       "    <tr>\n",
       "      <th>5271</th>\n",
       "      <td>The Princess Switch</td>\n",
       "      <td>2018</td>\n",
       "      <td>Comedy</td>\n",
       "      <td>101</td>\n",
       "      <td>Mike Rohl</td>\n",
       "      <td>6.0</td>\n",
       "      <td>80.21</td>\n",
       "    </tr>\n",
       "    <tr>\n",
       "      <th>5272</th>\n",
       "      <td>You Might Be the Killer</td>\n",
       "      <td>2018</td>\n",
       "      <td>Comedy</td>\n",
       "      <td>92</td>\n",
       "      <td>Brett Simmons</td>\n",
       "      <td>5.9</td>\n",
       "      <td>61.14</td>\n",
       "    </tr>\n",
       "    <tr>\n",
       "      <th>5273</th>\n",
       "      <td>The Final Wish</td>\n",
       "      <td>2018</td>\n",
       "      <td>Horror</td>\n",
       "      <td>95</td>\n",
       "      <td>Timothy Woodward Jr.</td>\n",
       "      <td>4.2</td>\n",
       "      <td>54.68</td>\n",
       "    </tr>\n",
       "    <tr>\n",
       "      <th>5274</th>\n",
       "      <td>Shrek Retold</td>\n",
       "      <td>2018</td>\n",
       "      <td>Animation</td>\n",
       "      <td>90</td>\n",
       "      <td>Grant Duffrin</td>\n",
       "      <td>7.5</td>\n",
       "      <td>26.07</td>\n",
       "    </tr>\n",
       "  </tbody>\n",
       "</table>\n",
       "<p>5275 rows × 7 columns</p>\n",
       "</div>"
      ],
      "text/plain": [
       "                                             Title  Year      Genre  Duration  \\\n",
       "0                                      What Is It?  2005      Drama        72   \n",
       "1                                          Glitter  2001      Drama       104   \n",
       "2                            The Attic Expeditions  2001     Comedy       100   \n",
       "3                                  Men in Black II  2002     Action        88   \n",
       "4     Star Wars: Episode II - Attack of the Clones  2002     Action       142   \n",
       "...                                            ...   ...        ...       ...   \n",
       "5270                                     Bloodline  2018      Crime        97   \n",
       "5271                           The Princess Switch  2018     Comedy       101   \n",
       "5272                       You Might Be the Killer  2018     Comedy        92   \n",
       "5273                                The Final Wish  2018     Horror        95   \n",
       "5274                                  Shrek Retold  2018  Animation        90   \n",
       "\n",
       "                  Director  Rating  Popularity  \n",
       "0           Crispin Glover     5.6       21.83  \n",
       "1       Vondie Curtis-Hall     2.2       81.69  \n",
       "2            Jeremy Kasten     5.0       42.08  \n",
       "3         Barry Sonnenfeld     6.2       98.60  \n",
       "4             George Lucas     6.5       99.58  \n",
       "...                    ...     ...         ...  \n",
       "5270        Henry Jacobson     6.0       64.69  \n",
       "5271             Mike Rohl     6.0       80.21  \n",
       "5272         Brett Simmons     5.9       61.14  \n",
       "5273  Timothy Woodward Jr.     4.2       54.68  \n",
       "5274         Grant Duffrin     7.5       26.07  \n",
       "\n",
       "[5275 rows x 7 columns]"
      ]
     },
     "execution_count": 4,
     "metadata": {},
     "output_type": "execute_result"
    }
   ],
   "source": [
    "movies=pd.read_csv('M2_T2_V1Movies.csv')\n",
    "movies"
   ]
  },
  {
   "cell_type": "code",
   "execution_count": 5,
   "id": "b554153f",
   "metadata": {},
   "outputs": [
    {
     "data": {
      "text/html": [
       "<div>\n",
       "<style scoped>\n",
       "    .dataframe tbody tr th:only-of-type {\n",
       "        vertical-align: middle;\n",
       "    }\n",
       "\n",
       "    .dataframe tbody tr th {\n",
       "        vertical-align: top;\n",
       "    }\n",
       "\n",
       "    .dataframe thead th {\n",
       "        text-align: right;\n",
       "    }\n",
       "</style>\n",
       "<table border=\"1\" class=\"dataframe\">\n",
       "  <thead>\n",
       "    <tr style=\"text-align: right;\">\n",
       "      <th></th>\n",
       "      <th>Year</th>\n",
       "      <th>Duration</th>\n",
       "      <th>Rating</th>\n",
       "      <th>Popularity</th>\n",
       "    </tr>\n",
       "  </thead>\n",
       "  <tbody>\n",
       "    <tr>\n",
       "      <th>count</th>\n",
       "      <td>5275.000000</td>\n",
       "      <td>5275.000000</td>\n",
       "      <td>5275.000000</td>\n",
       "      <td>5275.000000</td>\n",
       "    </tr>\n",
       "    <tr>\n",
       "      <th>mean</th>\n",
       "      <td>2010.899526</td>\n",
       "      <td>95.235261</td>\n",
       "      <td>5.379981</td>\n",
       "      <td>50.009486</td>\n",
       "    </tr>\n",
       "    <tr>\n",
       "      <th>std</th>\n",
       "      <td>4.842039</td>\n",
       "      <td>12.771222</td>\n",
       "      <td>1.248103</td>\n",
       "      <td>28.870229</td>\n",
       "    </tr>\n",
       "    <tr>\n",
       "      <th>min</th>\n",
       "      <td>2001.000000</td>\n",
       "      <td>46.000000</td>\n",
       "      <td>1.100000</td>\n",
       "      <td>0.050000</td>\n",
       "    </tr>\n",
       "    <tr>\n",
       "      <th>25%</th>\n",
       "      <td>2007.000000</td>\n",
       "      <td>87.000000</td>\n",
       "      <td>4.600000</td>\n",
       "      <td>25.030000</td>\n",
       "    </tr>\n",
       "    <tr>\n",
       "      <th>50%</th>\n",
       "      <td>2012.000000</td>\n",
       "      <td>93.000000</td>\n",
       "      <td>5.500000</td>\n",
       "      <td>50.020000</td>\n",
       "    </tr>\n",
       "    <tr>\n",
       "      <th>75%</th>\n",
       "      <td>2015.000000</td>\n",
       "      <td>101.000000</td>\n",
       "      <td>6.300000</td>\n",
       "      <td>75.005000</td>\n",
       "    </tr>\n",
       "    <tr>\n",
       "      <th>max</th>\n",
       "      <td>2018.000000</td>\n",
       "      <td>219.000000</td>\n",
       "      <td>9.700000</td>\n",
       "      <td>100.000000</td>\n",
       "    </tr>\n",
       "  </tbody>\n",
       "</table>\n",
       "</div>"
      ],
      "text/plain": [
       "              Year     Duration       Rating   Popularity\n",
       "count  5275.000000  5275.000000  5275.000000  5275.000000\n",
       "mean   2010.899526    95.235261     5.379981    50.009486\n",
       "std       4.842039    12.771222     1.248103    28.870229\n",
       "min    2001.000000    46.000000     1.100000     0.050000\n",
       "25%    2007.000000    87.000000     4.600000    25.030000\n",
       "50%    2012.000000    93.000000     5.500000    50.020000\n",
       "75%    2015.000000   101.000000     6.300000    75.005000\n",
       "max    2018.000000   219.000000     9.700000   100.000000"
      ]
     },
     "execution_count": 5,
     "metadata": {},
     "output_type": "execute_result"
    }
   ],
   "source": [
    "movies.describe()"
   ]
  },
  {
   "cell_type": "code",
   "execution_count": 7,
   "id": "4969d349",
   "metadata": {},
   "outputs": [
    {
     "data": {
      "text/plain": [
       "95.2352606635071"
      ]
     },
     "execution_count": 7,
     "metadata": {},
     "output_type": "execute_result"
    }
   ],
   "source": [
    "movies.Duration.sum()/len(movies.Duration)"
   ]
  },
  {
   "cell_type": "code",
   "execution_count": 8,
   "id": "c77463fd",
   "metadata": {},
   "outputs": [
    {
     "data": {
      "text/plain": [
       "5.379981042654028"
      ]
     },
     "execution_count": 8,
     "metadata": {},
     "output_type": "execute_result"
    }
   ],
   "source": [
    "movies.Rating.mean()"
   ]
  },
  {
   "cell_type": "code",
   "execution_count": 13,
   "id": "b6663d04",
   "metadata": {},
   "outputs": [
    {
     "data": {
      "text/plain": [
       "['Comedy', 'Drama', 'Action']"
      ]
     },
     "execution_count": 13,
     "metadata": {},
     "output_type": "execute_result"
    }
   ],
   "source": [
    "list(movies.Genre.value_counts().head(3).index)"
   ]
  },
  {
   "cell_type": "code",
   "execution_count": 18,
   "id": "a8f2d202",
   "metadata": {},
   "outputs": [],
   "source": [
    "top3=movies.Genre.value_counts().head(3).index"
   ]
  },
  {
   "cell_type": "code",
   "execution_count": 41,
   "id": "0e7c68ad",
   "metadata": {},
   "outputs": [],
   "source": [
    "movies['topgenre']=np.where(movies.Genre.isin(top3),'y','n')"
   ]
  },
  {
   "cell_type": "code",
   "execution_count": 21,
   "id": "f8d4ea1e",
   "metadata": {},
   "outputs": [
    {
     "data": {
      "text/html": [
       "<div>\n",
       "<style scoped>\n",
       "    .dataframe tbody tr th:only-of-type {\n",
       "        vertical-align: middle;\n",
       "    }\n",
       "\n",
       "    .dataframe tbody tr th {\n",
       "        vertical-align: top;\n",
       "    }\n",
       "\n",
       "    .dataframe thead th {\n",
       "        text-align: right;\n",
       "    }\n",
       "</style>\n",
       "<table border=\"1\" class=\"dataframe\">\n",
       "  <thead>\n",
       "    <tr style=\"text-align: right;\">\n",
       "      <th></th>\n",
       "      <th>Title</th>\n",
       "      <th>Year</th>\n",
       "      <th>Genre</th>\n",
       "      <th>Duration</th>\n",
       "      <th>Director</th>\n",
       "      <th>Rating</th>\n",
       "      <th>Popularity</th>\n",
       "      <th>top genre</th>\n",
       "    </tr>\n",
       "  </thead>\n",
       "  <tbody>\n",
       "    <tr>\n",
       "      <th>0</th>\n",
       "      <td>What Is It?</td>\n",
       "      <td>2005</td>\n",
       "      <td>Drama</td>\n",
       "      <td>72</td>\n",
       "      <td>Crispin Glover</td>\n",
       "      <td>5.6</td>\n",
       "      <td>21.83</td>\n",
       "      <td>y</td>\n",
       "    </tr>\n",
       "    <tr>\n",
       "      <th>1</th>\n",
       "      <td>Glitter</td>\n",
       "      <td>2001</td>\n",
       "      <td>Drama</td>\n",
       "      <td>104</td>\n",
       "      <td>Vondie Curtis-Hall</td>\n",
       "      <td>2.2</td>\n",
       "      <td>81.69</td>\n",
       "      <td>y</td>\n",
       "    </tr>\n",
       "    <tr>\n",
       "      <th>2</th>\n",
       "      <td>The Attic Expeditions</td>\n",
       "      <td>2001</td>\n",
       "      <td>Comedy</td>\n",
       "      <td>100</td>\n",
       "      <td>Jeremy Kasten</td>\n",
       "      <td>5.0</td>\n",
       "      <td>42.08</td>\n",
       "      <td>y</td>\n",
       "    </tr>\n",
       "    <tr>\n",
       "      <th>3</th>\n",
       "      <td>Men in Black II</td>\n",
       "      <td>2002</td>\n",
       "      <td>Action</td>\n",
       "      <td>88</td>\n",
       "      <td>Barry Sonnenfeld</td>\n",
       "      <td>6.2</td>\n",
       "      <td>98.60</td>\n",
       "      <td>y</td>\n",
       "    </tr>\n",
       "    <tr>\n",
       "      <th>4</th>\n",
       "      <td>Star Wars: Episode II - Attack of the Clones</td>\n",
       "      <td>2002</td>\n",
       "      <td>Action</td>\n",
       "      <td>142</td>\n",
       "      <td>George Lucas</td>\n",
       "      <td>6.5</td>\n",
       "      <td>99.58</td>\n",
       "      <td>y</td>\n",
       "    </tr>\n",
       "    <tr>\n",
       "      <th>...</th>\n",
       "      <td>...</td>\n",
       "      <td>...</td>\n",
       "      <td>...</td>\n",
       "      <td>...</td>\n",
       "      <td>...</td>\n",
       "      <td>...</td>\n",
       "      <td>...</td>\n",
       "      <td>...</td>\n",
       "    </tr>\n",
       "    <tr>\n",
       "      <th>5270</th>\n",
       "      <td>Bloodline</td>\n",
       "      <td>2018</td>\n",
       "      <td>Crime</td>\n",
       "      <td>97</td>\n",
       "      <td>Henry Jacobson</td>\n",
       "      <td>6.0</td>\n",
       "      <td>64.69</td>\n",
       "      <td>n</td>\n",
       "    </tr>\n",
       "    <tr>\n",
       "      <th>5271</th>\n",
       "      <td>The Princess Switch</td>\n",
       "      <td>2018</td>\n",
       "      <td>Comedy</td>\n",
       "      <td>101</td>\n",
       "      <td>Mike Rohl</td>\n",
       "      <td>6.0</td>\n",
       "      <td>80.21</td>\n",
       "      <td>y</td>\n",
       "    </tr>\n",
       "    <tr>\n",
       "      <th>5272</th>\n",
       "      <td>You Might Be the Killer</td>\n",
       "      <td>2018</td>\n",
       "      <td>Comedy</td>\n",
       "      <td>92</td>\n",
       "      <td>Brett Simmons</td>\n",
       "      <td>5.9</td>\n",
       "      <td>61.14</td>\n",
       "      <td>y</td>\n",
       "    </tr>\n",
       "    <tr>\n",
       "      <th>5273</th>\n",
       "      <td>The Final Wish</td>\n",
       "      <td>2018</td>\n",
       "      <td>Horror</td>\n",
       "      <td>95</td>\n",
       "      <td>Timothy Woodward Jr.</td>\n",
       "      <td>4.2</td>\n",
       "      <td>54.68</td>\n",
       "      <td>n</td>\n",
       "    </tr>\n",
       "    <tr>\n",
       "      <th>5274</th>\n",
       "      <td>Shrek Retold</td>\n",
       "      <td>2018</td>\n",
       "      <td>Animation</td>\n",
       "      <td>90</td>\n",
       "      <td>Grant Duffrin</td>\n",
       "      <td>7.5</td>\n",
       "      <td>26.07</td>\n",
       "      <td>n</td>\n",
       "    </tr>\n",
       "  </tbody>\n",
       "</table>\n",
       "<p>5275 rows × 8 columns</p>\n",
       "</div>"
      ],
      "text/plain": [
       "                                             Title  Year      Genre  Duration  \\\n",
       "0                                      What Is It?  2005      Drama        72   \n",
       "1                                          Glitter  2001      Drama       104   \n",
       "2                            The Attic Expeditions  2001     Comedy       100   \n",
       "3                                  Men in Black II  2002     Action        88   \n",
       "4     Star Wars: Episode II - Attack of the Clones  2002     Action       142   \n",
       "...                                            ...   ...        ...       ...   \n",
       "5270                                     Bloodline  2018      Crime        97   \n",
       "5271                           The Princess Switch  2018     Comedy       101   \n",
       "5272                       You Might Be the Killer  2018     Comedy        92   \n",
       "5273                                The Final Wish  2018     Horror        95   \n",
       "5274                                  Shrek Retold  2018  Animation        90   \n",
       "\n",
       "                  Director  Rating  Popularity top genre  \n",
       "0           Crispin Glover     5.6       21.83         y  \n",
       "1       Vondie Curtis-Hall     2.2       81.69         y  \n",
       "2            Jeremy Kasten     5.0       42.08         y  \n",
       "3         Barry Sonnenfeld     6.2       98.60         y  \n",
       "4             George Lucas     6.5       99.58         y  \n",
       "...                    ...     ...         ...       ...  \n",
       "5270        Henry Jacobson     6.0       64.69         n  \n",
       "5271             Mike Rohl     6.0       80.21         y  \n",
       "5272         Brett Simmons     5.9       61.14         y  \n",
       "5273  Timothy Woodward Jr.     4.2       54.68         n  \n",
       "5274         Grant Duffrin     7.5       26.07         n  \n",
       "\n",
       "[5275 rows x 8 columns]"
      ]
     },
     "execution_count": 21,
     "metadata": {},
     "output_type": "execute_result"
    }
   ],
   "source": [
    "movies"
   ]
  },
  {
   "cell_type": "code",
   "execution_count": 29,
   "id": "45855f86",
   "metadata": {},
   "outputs": [
    {
     "data": {
      "text/html": [
       "<div>\n",
       "<style scoped>\n",
       "    .dataframe tbody tr th:only-of-type {\n",
       "        vertical-align: middle;\n",
       "    }\n",
       "\n",
       "    .dataframe tbody tr th {\n",
       "        vertical-align: top;\n",
       "    }\n",
       "\n",
       "    .dataframe thead th {\n",
       "        text-align: right;\n",
       "    }\n",
       "</style>\n",
       "<table border=\"1\" class=\"dataframe\">\n",
       "  <thead>\n",
       "    <tr style=\"text-align: right;\">\n",
       "      <th></th>\n",
       "      <th>Duration</th>\n",
       "      <th>Rating</th>\n",
       "    </tr>\n",
       "    <tr>\n",
       "      <th>top genre</th>\n",
       "      <th></th>\n",
       "      <th></th>\n",
       "    </tr>\n",
       "  </thead>\n",
       "  <tbody>\n",
       "    <tr>\n",
       "      <th>n</th>\n",
       "      <td>93.668866</td>\n",
       "      <td>5.158188</td>\n",
       "    </tr>\n",
       "    <tr>\n",
       "      <th>y</th>\n",
       "      <td>95.958980</td>\n",
       "      <td>5.482456</td>\n",
       "    </tr>\n",
       "  </tbody>\n",
       "</table>\n",
       "</div>"
      ],
      "text/plain": [
       "            Duration    Rating\n",
       "top genre                     \n",
       "n          93.668866  5.158188\n",
       "y          95.958980  5.482456"
      ]
     },
     "execution_count": 29,
     "metadata": {},
     "output_type": "execute_result"
    }
   ],
   "source": [
    "movies.loc[:,['Duration','Rating','top genre']].groupby('top genre').mean()"
   ]
  },
  {
   "cell_type": "code",
   "execution_count": 42,
   "id": "f1aa81c2",
   "metadata": {},
   "outputs": [
    {
     "data": {
      "text/html": [
       "<div>\n",
       "<style scoped>\n",
       "    .dataframe tbody tr th:only-of-type {\n",
       "        vertical-align: middle;\n",
       "    }\n",
       "\n",
       "    .dataframe tbody tr th {\n",
       "        vertical-align: top;\n",
       "    }\n",
       "\n",
       "    .dataframe thead th {\n",
       "        text-align: right;\n",
       "    }\n",
       "</style>\n",
       "<table border=\"1\" class=\"dataframe\">\n",
       "  <thead>\n",
       "    <tr style=\"text-align: right;\">\n",
       "      <th></th>\n",
       "      <th>Year</th>\n",
       "      <th>Duration</th>\n",
       "      <th>Rating</th>\n",
       "      <th>Popularity</th>\n",
       "    </tr>\n",
       "    <tr>\n",
       "      <th>topgenre</th>\n",
       "      <th></th>\n",
       "      <th></th>\n",
       "      <th></th>\n",
       "      <th></th>\n",
       "    </tr>\n",
       "  </thead>\n",
       "  <tbody>\n",
       "    <tr>\n",
       "      <th>n</th>\n",
       "      <td>2011.311938</td>\n",
       "      <td>93.668866</td>\n",
       "      <td>5.158188</td>\n",
       "      <td>48.073071</td>\n",
       "    </tr>\n",
       "    <tr>\n",
       "      <th>y</th>\n",
       "      <td>2010.708980</td>\n",
       "      <td>95.958980</td>\n",
       "      <td>5.482456</td>\n",
       "      <td>50.904166</td>\n",
       "    </tr>\n",
       "  </tbody>\n",
       "</table>\n",
       "</div>"
      ],
      "text/plain": [
       "                 Year   Duration    Rating  Popularity\n",
       "topgenre                                              \n",
       "n         2011.311938  93.668866  5.158188   48.073071\n",
       "y         2010.708980  95.958980  5.482456   50.904166"
      ]
     },
     "execution_count": 42,
     "metadata": {},
     "output_type": "execute_result"
    }
   ],
   "source": [
    "movies.groupby('topgenre').mean()"
   ]
  },
  {
   "cell_type": "code",
   "execution_count": 45,
   "id": "d5016624",
   "metadata": {},
   "outputs": [
    {
     "data": {
      "text/html": [
       "<div>\n",
       "<style scoped>\n",
       "    .dataframe tbody tr th:only-of-type {\n",
       "        vertical-align: middle;\n",
       "    }\n",
       "\n",
       "    .dataframe tbody tr th {\n",
       "        vertical-align: top;\n",
       "    }\n",
       "\n",
       "    .dataframe thead th {\n",
       "        text-align: right;\n",
       "    }\n",
       "</style>\n",
       "<table border=\"1\" class=\"dataframe\">\n",
       "  <thead>\n",
       "    <tr style=\"text-align: right;\">\n",
       "      <th></th>\n",
       "      <th>Duration</th>\n",
       "      <th>Rating</th>\n",
       "    </tr>\n",
       "    <tr>\n",
       "      <th>Genre</th>\n",
       "      <th></th>\n",
       "      <th></th>\n",
       "    </tr>\n",
       "  </thead>\n",
       "  <tbody>\n",
       "    <tr>\n",
       "      <th>Action</th>\n",
       "      <td>96.390146</td>\n",
       "      <td>4.838083</td>\n",
       "    </tr>\n",
       "    <tr>\n",
       "      <th>Comedy</th>\n",
       "      <td>94.711377</td>\n",
       "      <td>5.551317</td>\n",
       "    </tr>\n",
       "    <tr>\n",
       "      <th>Drama</th>\n",
       "      <td>97.441449</td>\n",
       "      <td>5.793260</td>\n",
       "    </tr>\n",
       "  </tbody>\n",
       "</table>\n",
       "</div>"
      ],
      "text/plain": [
       "         Duration    Rating\n",
       "Genre                      \n",
       "Action  96.390146  4.838083\n",
       "Comedy  94.711377  5.551317\n",
       "Drama   97.441449  5.793260"
      ]
     },
     "execution_count": 45,
     "metadata": {},
     "output_type": "execute_result"
    }
   ],
   "source": [
    "movies.loc[movies.topgenre=='y',['Duration','Rating','Genre']].groupby(\"Genre\").mean()"
   ]
  },
  {
   "cell_type": "code",
   "execution_count": 50,
   "id": "03f985be",
   "metadata": {},
   "outputs": [
    {
     "name": "stderr",
     "output_type": "stream",
     "text": [
      "C:\\Users\\purni\\anaconda3\\lib\\site-packages\\seaborn\\distributions.py:2619: FutureWarning: `distplot` is a deprecated function and will be removed in a future version. Please adapt your code to use either `displot` (a figure-level function with similar flexibility) or `histplot` (an axes-level function for histograms).\n",
      "  warnings.warn(msg, FutureWarning)\n"
     ]
    },
    {
     "data": {
      "text/plain": [
       "<AxesSubplot:xlabel='Duration', ylabel='Density'>"
      ]
     },
     "execution_count": 50,
     "metadata": {},
     "output_type": "execute_result"
    },
    {
     "data": {
      "image/png": "[encoded data removed]",
      "text/plain": [
       "<Figure size 432x288 with 1 Axes>"
      ]
     },
     "metadata": {
      "needs_background": "light"
     },
     "output_type": "display_data"
    }
   ],
   "source": [
    "sns.distplot(movies.Duration)"
   ]
  },
  {
   "cell_type": "code",
   "execution_count": 51,
   "id": "7160fbc2",
   "metadata": {},
   "outputs": [
    {
     "data": {
      "text/plain": [
       "count    5275.000000\n",
       "mean       95.235261\n",
       "std        12.771222\n",
       "min        46.000000\n",
       "25%        87.000000\n",
       "50%        93.000000\n",
       "75%       101.000000\n",
       "max       219.000000\n",
       "Name: Duration, dtype: float64"
      ]
     },
     "execution_count": 51,
     "metadata": {},
     "output_type": "execute_result"
    }
   ],
   "source": [
    "movies.Duration.describe()"
   ]
  },
  {
   "cell_type": "code",
   "execution_count": 55,
   "id": "69058c3f",
   "metadata": {},
   "outputs": [],
   "source": [
    "top3genre=movies.loc[movies.topgenre=='y',['Duration','Genre']]"
   ]
  },
  {
   "cell_type": "code",
   "execution_count": 56,
   "id": "c18edbd2",
   "metadata": {},
   "outputs": [
    {
     "data": {
      "text/html": [
       "<div>\n",
       "<style scoped>\n",
       "    .dataframe tbody tr th:only-of-type {\n",
       "        vertical-align: middle;\n",
       "    }\n",
       "\n",
       "    .dataframe tbody tr th {\n",
       "        vertical-align: top;\n",
       "    }\n",
       "\n",
       "    .dataframe thead th {\n",
       "        text-align: right;\n",
       "    }\n",
       "</style>\n",
       "<table border=\"1\" class=\"dataframe\">\n",
       "  <thead>\n",
       "    <tr style=\"text-align: right;\">\n",
       "      <th></th>\n",
       "      <th>Duration</th>\n",
       "      <th>Genre</th>\n",
       "    </tr>\n",
       "  </thead>\n",
       "  <tbody>\n",
       "    <tr>\n",
       "      <th>0</th>\n",
       "      <td>72</td>\n",
       "      <td>Drama</td>\n",
       "    </tr>\n",
       "    <tr>\n",
       "      <th>1</th>\n",
       "      <td>104</td>\n",
       "      <td>Drama</td>\n",
       "    </tr>\n",
       "    <tr>\n",
       "      <th>2</th>\n",
       "      <td>100</td>\n",
       "      <td>Comedy</td>\n",
       "    </tr>\n",
       "    <tr>\n",
       "      <th>3</th>\n",
       "      <td>88</td>\n",
       "      <td>Action</td>\n",
       "    </tr>\n",
       "    <tr>\n",
       "      <th>4</th>\n",
       "      <td>142</td>\n",
       "      <td>Action</td>\n",
       "    </tr>\n",
       "    <tr>\n",
       "      <th>...</th>\n",
       "      <td>...</td>\n",
       "      <td>...</td>\n",
       "    </tr>\n",
       "    <tr>\n",
       "      <th>5263</th>\n",
       "      <td>81</td>\n",
       "      <td>Comedy</td>\n",
       "    </tr>\n",
       "    <tr>\n",
       "      <th>5267</th>\n",
       "      <td>92</td>\n",
       "      <td>Drama</td>\n",
       "    </tr>\n",
       "    <tr>\n",
       "      <th>5268</th>\n",
       "      <td>74</td>\n",
       "      <td>Action</td>\n",
       "    </tr>\n",
       "    <tr>\n",
       "      <th>5271</th>\n",
       "      <td>101</td>\n",
       "      <td>Comedy</td>\n",
       "    </tr>\n",
       "    <tr>\n",
       "      <th>5272</th>\n",
       "      <td>92</td>\n",
       "      <td>Comedy</td>\n",
       "    </tr>\n",
       "  </tbody>\n",
       "</table>\n",
       "<p>3608 rows × 2 columns</p>\n",
       "</div>"
      ],
      "text/plain": [
       "      Duration   Genre\n",
       "0           72   Drama\n",
       "1          104   Drama\n",
       "2          100  Comedy\n",
       "3           88  Action\n",
       "4          142  Action\n",
       "...        ...     ...\n",
       "5263        81  Comedy\n",
       "5267        92   Drama\n",
       "5268        74  Action\n",
       "5271       101  Comedy\n",
       "5272        92  Comedy\n",
       "\n",
       "[3608 rows x 2 columns]"
      ]
     },
     "execution_count": 56,
     "metadata": {},
     "output_type": "execute_result"
    }
   ],
   "source": [
    "top3genre"
   ]
  },
  {
   "cell_type": "code",
   "execution_count": 57,
   "id": "f7ee2c65",
   "metadata": {},
   "outputs": [
    {
     "name": "stderr",
     "output_type": "stream",
     "text": [
      "C:\\Users\\purni\\anaconda3\\lib\\site-packages\\seaborn\\_decorators.py:36: FutureWarning: Pass the following variables as keyword args: x, y. From version 0.12, the only valid positional argument will be `data`, and passing other arguments without an explicit keyword will result in an error or misinterpretation.\n",
      "  warnings.warn(\n"
     ]
    },
    {
     "data": {
      "text/plain": [
       "<AxesSubplot:xlabel='Duration', ylabel='Genre'>"
      ]
     },
     "execution_count": 57,
     "metadata": {},
     "output_type": "execute_result"
    },
    {
     "data": {
      "image/png": "[encoded data removed]",
      "text/plain": [
       "<Figure size 432x288 with 1 Axes>"
      ]
     },
     "metadata": {
      "needs_background": "light"
     },
     "output_type": "display_data"
    }
   ],
   "source": [
    "sns.boxplot(top3genre.Duration,top3genre.Genre)"
   ]
  },
  {
   "cell_type": "code",
   "execution_count": 2,
   "id": "f0c0b2c9",
   "metadata": {},
   "outputs": [
    {
     "data": {
      "text/html": [
       "<div>\n",
       "<style scoped>\n",
       "    .dataframe tbody tr th:only-of-type {\n",
       "        vertical-align: middle;\n",
       "    }\n",
       "\n",
       "    .dataframe tbody tr th {\n",
       "        vertical-align: top;\n",
       "    }\n",
       "\n",
       "    .dataframe thead th {\n",
       "        text-align: right;\n",
       "    }\n",
       "</style>\n",
       "<table border=\"1\" class=\"dataframe\">\n",
       "  <thead>\n",
       "    <tr style=\"text-align: right;\">\n",
       "      <th></th>\n",
       "      <th>dist</th>\n",
       "      <th>climb</th>\n",
       "      <th>time</th>\n",
       "    </tr>\n",
       "  </thead>\n",
       "  <tbody>\n",
       "    <tr>\n",
       "      <th>0</th>\n",
       "      <td>2.5</td>\n",
       "      <td>650</td>\n",
       "      <td>16.083</td>\n",
       "    </tr>\n",
       "    <tr>\n",
       "      <th>1</th>\n",
       "      <td>6.0</td>\n",
       "      <td>2500</td>\n",
       "      <td>48.350</td>\n",
       "    </tr>\n",
       "    <tr>\n",
       "      <th>2</th>\n",
       "      <td>6.0</td>\n",
       "      <td>900</td>\n",
       "      <td>33.650</td>\n",
       "    </tr>\n",
       "    <tr>\n",
       "      <th>3</th>\n",
       "      <td>7.5</td>\n",
       "      <td>800</td>\n",
       "      <td>45.600</td>\n",
       "    </tr>\n",
       "    <tr>\n",
       "      <th>4</th>\n",
       "      <td>8.0</td>\n",
       "      <td>3070</td>\n",
       "      <td>62.267</td>\n",
       "    </tr>\n",
       "    <tr>\n",
       "      <th>5</th>\n",
       "      <td>8.0</td>\n",
       "      <td>2866</td>\n",
       "      <td>73.217</td>\n",
       "    </tr>\n",
       "    <tr>\n",
       "      <th>6</th>\n",
       "      <td>16.0</td>\n",
       "      <td>7500</td>\n",
       "      <td>204.617</td>\n",
       "    </tr>\n",
       "    <tr>\n",
       "      <th>7</th>\n",
       "      <td>6.0</td>\n",
       "      <td>800</td>\n",
       "      <td>36.367</td>\n",
       "    </tr>\n",
       "    <tr>\n",
       "      <th>8</th>\n",
       "      <td>5.0</td>\n",
       "      <td>800</td>\n",
       "      <td>29.750</td>\n",
       "    </tr>\n",
       "    <tr>\n",
       "      <th>9</th>\n",
       "      <td>6.0</td>\n",
       "      <td>650</td>\n",
       "      <td>39.750</td>\n",
       "    </tr>\n",
       "    <tr>\n",
       "      <th>10</th>\n",
       "      <td>28.0</td>\n",
       "      <td>2100</td>\n",
       "      <td>192.667</td>\n",
       "    </tr>\n",
       "    <tr>\n",
       "      <th>11</th>\n",
       "      <td>5.0</td>\n",
       "      <td>2000</td>\n",
       "      <td>43.050</td>\n",
       "    </tr>\n",
       "    <tr>\n",
       "      <th>12</th>\n",
       "      <td>9.5</td>\n",
       "      <td>2200</td>\n",
       "      <td>65.000</td>\n",
       "    </tr>\n",
       "    <tr>\n",
       "      <th>13</th>\n",
       "      <td>6.0</td>\n",
       "      <td>500</td>\n",
       "      <td>44.133</td>\n",
       "    </tr>\n",
       "    <tr>\n",
       "      <th>14</th>\n",
       "      <td>4.5</td>\n",
       "      <td>1500</td>\n",
       "      <td>26.933</td>\n",
       "    </tr>\n",
       "    <tr>\n",
       "      <th>15</th>\n",
       "      <td>10.0</td>\n",
       "      <td>3000</td>\n",
       "      <td>72.250</td>\n",
       "    </tr>\n",
       "    <tr>\n",
       "      <th>16</th>\n",
       "      <td>14.0</td>\n",
       "      <td>2200</td>\n",
       "      <td>98.417</td>\n",
       "    </tr>\n",
       "    <tr>\n",
       "      <th>17</th>\n",
       "      <td>3.0</td>\n",
       "      <td>350</td>\n",
       "      <td>78.650</td>\n",
       "    </tr>\n",
       "    <tr>\n",
       "      <th>18</th>\n",
       "      <td>4.5</td>\n",
       "      <td>1000</td>\n",
       "      <td>17.417</td>\n",
       "    </tr>\n",
       "    <tr>\n",
       "      <th>19</th>\n",
       "      <td>5.5</td>\n",
       "      <td>600</td>\n",
       "      <td>32.567</td>\n",
       "    </tr>\n",
       "    <tr>\n",
       "      <th>20</th>\n",
       "      <td>3.0</td>\n",
       "      <td>300</td>\n",
       "      <td>15.950</td>\n",
       "    </tr>\n",
       "    <tr>\n",
       "      <th>21</th>\n",
       "      <td>3.5</td>\n",
       "      <td>1500</td>\n",
       "      <td>27.900</td>\n",
       "    </tr>\n",
       "    <tr>\n",
       "      <th>22</th>\n",
       "      <td>6.0</td>\n",
       "      <td>2200</td>\n",
       "      <td>47.633</td>\n",
       "    </tr>\n",
       "    <tr>\n",
       "      <th>23</th>\n",
       "      <td>2.0</td>\n",
       "      <td>900</td>\n",
       "      <td>17.933</td>\n",
       "    </tr>\n",
       "    <tr>\n",
       "      <th>24</th>\n",
       "      <td>3.0</td>\n",
       "      <td>600</td>\n",
       "      <td>18.683</td>\n",
       "    </tr>\n",
       "    <tr>\n",
       "      <th>25</th>\n",
       "      <td>4.0</td>\n",
       "      <td>2000</td>\n",
       "      <td>26.217</td>\n",
       "    </tr>\n",
       "    <tr>\n",
       "      <th>26</th>\n",
       "      <td>6.0</td>\n",
       "      <td>800</td>\n",
       "      <td>34.433</td>\n",
       "    </tr>\n",
       "    <tr>\n",
       "      <th>27</th>\n",
       "      <td>5.0</td>\n",
       "      <td>950</td>\n",
       "      <td>28.567</td>\n",
       "    </tr>\n",
       "    <tr>\n",
       "      <th>28</th>\n",
       "      <td>6.5</td>\n",
       "      <td>1750</td>\n",
       "      <td>50.500</td>\n",
       "    </tr>\n",
       "    <tr>\n",
       "      <th>29</th>\n",
       "      <td>5.0</td>\n",
       "      <td>500</td>\n",
       "      <td>20.950</td>\n",
       "    </tr>\n",
       "    <tr>\n",
       "      <th>30</th>\n",
       "      <td>10.0</td>\n",
       "      <td>4400</td>\n",
       "      <td>85.583</td>\n",
       "    </tr>\n",
       "    <tr>\n",
       "      <th>31</th>\n",
       "      <td>6.0</td>\n",
       "      <td>600</td>\n",
       "      <td>32.383</td>\n",
       "    </tr>\n",
       "    <tr>\n",
       "      <th>32</th>\n",
       "      <td>18.0</td>\n",
       "      <td>5200</td>\n",
       "      <td>170.250</td>\n",
       "    </tr>\n",
       "    <tr>\n",
       "      <th>33</th>\n",
       "      <td>4.5</td>\n",
       "      <td>850</td>\n",
       "      <td>28.100</td>\n",
       "    </tr>\n",
       "    <tr>\n",
       "      <th>34</th>\n",
       "      <td>20.0</td>\n",
       "      <td>5000</td>\n",
       "      <td>159.833</td>\n",
       "    </tr>\n",
       "  </tbody>\n",
       "</table>\n",
       "</div>"
      ],
      "text/plain": [
       "    dist  climb     time\n",
       "0    2.5    650   16.083\n",
       "1    6.0   2500   48.350\n",
       "2    6.0    900   33.650\n",
       "3    7.5    800   45.600\n",
       "4    8.0   3070   62.267\n",
       "5    8.0   2866   73.217\n",
       "6   16.0   7500  204.617\n",
       "7    6.0    800   36.367\n",
       "8    5.0    800   29.750\n",
       "9    6.0    650   39.750\n",
       "10  28.0   2100  192.667\n",
       "11   5.0   2000   43.050\n",
       "12   9.5   2200   65.000\n",
       "13   6.0    500   44.133\n",
       "14   4.5   1500   26.933\n",
       "15  10.0   3000   72.250\n",
       "16  14.0   2200   98.417\n",
       "17   3.0    350   78.650\n",
       "18   4.5   1000   17.417\n",
       "19   5.5    600   32.567\n",
       "20   3.0    300   15.950\n",
       "21   3.5   1500   27.900\n",
       "22   6.0   2200   47.633\n",
       "23   2.0    900   17.933\n",
       "24   3.0    600   18.683\n",
       "25   4.0   2000   26.217\n",
       "26   6.0    800   34.433\n",
       "27   5.0    950   28.567\n",
       "28   6.5   1750   50.500\n",
       "29   5.0    500   20.950\n",
       "30  10.0   4400   85.583\n",
       "31   6.0    600   32.383\n",
       "32  18.0   5200  170.250\n",
       "33   4.5    850   28.100\n",
       "34  20.0   5000  159.833"
      ]
     },
     "execution_count": 2,
     "metadata": {},
     "output_type": "execute_result"
    }
   ],
   "source": [
    "hills=pd.read_csv(\"hills.csv\")\n",
    "hills"
   ]
  },
  {
   "cell_type": "code",
   "execution_count": 3,
   "id": "0a832857",
   "metadata": {},
   "outputs": [
    {
     "data": {
      "text/html": [
       "<div>\n",
       "<style scoped>\n",
       "    .dataframe tbody tr th:only-of-type {\n",
       "        vertical-align: middle;\n",
       "    }\n",
       "\n",
       "    .dataframe tbody tr th {\n",
       "        vertical-align: top;\n",
       "    }\n",
       "\n",
       "    .dataframe thead th {\n",
       "        text-align: right;\n",
       "    }\n",
       "</style>\n",
       "<table border=\"1\" class=\"dataframe\">\n",
       "  <thead>\n",
       "    <tr style=\"text-align: right;\">\n",
       "      <th></th>\n",
       "      <th>dist</th>\n",
       "      <th>climb</th>\n",
       "      <th>time</th>\n",
       "    </tr>\n",
       "  </thead>\n",
       "  <tbody>\n",
       "    <tr>\n",
       "      <th>count</th>\n",
       "      <td>35.000000</td>\n",
       "      <td>35.000000</td>\n",
       "      <td>35.000000</td>\n",
       "    </tr>\n",
       "    <tr>\n",
       "      <th>mean</th>\n",
       "      <td>7.528571</td>\n",
       "      <td>1815.314286</td>\n",
       "      <td>57.875714</td>\n",
       "    </tr>\n",
       "    <tr>\n",
       "      <th>std</th>\n",
       "      <td>5.523936</td>\n",
       "      <td>1619.150536</td>\n",
       "      <td>50.040716</td>\n",
       "    </tr>\n",
       "    <tr>\n",
       "      <th>min</th>\n",
       "      <td>2.000000</td>\n",
       "      <td>300.000000</td>\n",
       "      <td>15.950000</td>\n",
       "    </tr>\n",
       "    <tr>\n",
       "      <th>25%</th>\n",
       "      <td>4.500000</td>\n",
       "      <td>725.000000</td>\n",
       "      <td>28.000000</td>\n",
       "    </tr>\n",
       "    <tr>\n",
       "      <th>50%</th>\n",
       "      <td>6.000000</td>\n",
       "      <td>1000.000000</td>\n",
       "      <td>39.750000</td>\n",
       "    </tr>\n",
       "    <tr>\n",
       "      <th>75%</th>\n",
       "      <td>8.000000</td>\n",
       "      <td>2200.000000</td>\n",
       "      <td>68.625000</td>\n",
       "    </tr>\n",
       "    <tr>\n",
       "      <th>max</th>\n",
       "      <td>28.000000</td>\n",
       "      <td>7500.000000</td>\n",
       "      <td>204.617000</td>\n",
       "    </tr>\n",
       "  </tbody>\n",
       "</table>\n",
       "</div>"
      ],
      "text/plain": [
       "            dist        climb        time\n",
       "count  35.000000    35.000000   35.000000\n",
       "mean    7.528571  1815.314286   57.875714\n",
       "std     5.523936  1619.150536   50.040716\n",
       "min     2.000000   300.000000   15.950000\n",
       "25%     4.500000   725.000000   28.000000\n",
       "50%     6.000000  1000.000000   39.750000\n",
       "75%     8.000000  2200.000000   68.625000\n",
       "max    28.000000  7500.000000  204.617000"
      ]
     },
     "execution_count": 3,
     "metadata": {},
     "output_type": "execute_result"
    }
   ],
   "source": [
    "hills.describe()"
   ]
  },
  {
   "cell_type": "code",
   "execution_count": 4,
   "id": "31e85c5c",
   "metadata": {},
   "outputs": [
    {
     "name": "stderr",
     "output_type": "stream",
     "text": [
      "C:\\Users\\purni\\anaconda3\\lib\\site-packages\\seaborn\\distributions.py:2619: FutureWarning: `distplot` is a deprecated function and will be removed in a future version. Please adapt your code to use either `displot` (a figure-level function with similar flexibility) or `histplot` (an axes-level function for histograms).\n",
      "  warnings.warn(msg, FutureWarning)\n"
     ]
    },
    {
     "data": {
      "text/plain": [
       "<AxesSubplot:xlabel='dist', ylabel='Density'>"
      ]
     },
     "execution_count": 4,
     "metadata": {},
     "output_type": "execute_result"
    },
    {
     "data": {
      "image/png": "[encoded data removed]",
      "text/plain": [
       "<Figure size 432x288 with 1 Axes>"
      ]
     },
     "metadata": {
      "needs_background": "light"
     },
     "output_type": "display_data"
    }
   ],
   "source": [
    "sns.distplot(hills.dist)"
   ]
  },
  {
   "cell_type": "code",
   "execution_count": 5,
   "id": "71082364",
   "metadata": {},
   "outputs": [
    {
     "data": {
      "text/plain": [
       "<AxesSubplot:xlabel='dist', ylabel='Density'>"
      ]
     },
     "execution_count": 5,
     "metadata": {},
     "output_type": "execute_result"
    },
    {
     "data": {
      "image/png": "[encoded data removed]",
      "text/plain": [
       "<Figure size 432x288 with 1 Axes>"
      ]
     },
     "metadata": {
      "needs_background": "light"
     },
     "output_type": "display_data"
    }
   ],
   "source": [
    "sns.kdeplot(hills.dist)"
   ]
  },
  {
   "cell_type": "code",
   "execution_count": 6,
   "id": "2f42ef02",
   "metadata": {},
   "outputs": [
    {
     "data": {
      "text/plain": [
       "<AxesSubplot:xlabel='time', ylabel='Density'>"
      ]
     },
     "execution_count": 6,
     "metadata": {},
     "output_type": "execute_result"
    },
    {
     "data": {
      "image/png": "[encoded data removed]",
      "text/plain": [
       "<Figure size 432x288 with 1 Axes>"
      ]
     },
     "metadata": {
      "needs_background": "light"
     },
     "output_type": "display_data"
    }
   ],
   "source": [
    "sns.kdeplot(hills.time)"
   ]
  },
  {
   "cell_type": "code",
   "execution_count": 7,
   "id": "92eee9bc",
   "metadata": {},
   "outputs": [
    {
     "data": {
      "text/plain": [
       "<AxesSubplot:xlabel='dist', ylabel='time'>"
      ]
     },
     "execution_count": 7,
     "metadata": {},
     "output_type": "execute_result"
    },
    {
     "data": {
      "image/png": "[encoded data removed]",
      "text/plain": [
       "<Figure size 432x288 with 1 Axes>"
      ]
     },
     "metadata": {
      "needs_background": "light"
     },
     "output_type": "display_data"
    }
   ],
   "source": [
    "sns.scatterplot(x=hills.dist,y=hills.time)"
   ]
  },
  {
   "cell_type": "code",
   "execution_count": 8,
   "id": "877f07e1",
   "metadata": {},
   "outputs": [
    {
     "data": {
      "text/plain": [
       "<AxesSubplot:xlabel='climb', ylabel='time'>"
      ]
     },
     "execution_count": 8,
     "metadata": {},
     "output_type": "execute_result"
    },
    {
     "data": {
      "image/png": "[encoded data removed]",
      "text/plain": [
       "<Figure size 432x288 with 1 Axes>"
      ]
     },
     "metadata": {
      "needs_background": "light"
     },
     "output_type": "display_data"
    }
   ],
   "source": [
    "sns.scatterplot(x=hills.climb,y=hills.time)"
   ]
  },
  {
   "cell_type": "code",
   "execution_count": 11,
   "id": "003fa74a",
   "metadata": {},
   "outputs": [
    {
     "data": {
      "text/plain": [
       "<AxesSubplot:xlabel='time', ylabel='dist'>"
      ]
     },
     "execution_count": 11,
     "metadata": {},
     "output_type": "execute_result"
    },
    {
     "data": {
      "image/png": "[encoded data removed]",
      "text/plain": [
       "<Figure size 432x288 with 1 Axes>"
      ]
     },
     "metadata": {
      "needs_background": "light"
     },
     "output_type": "display_data"
    }
   ],
   "source": [
    "sns.scatterplot(y=hills.dist,x=hills.time)"
   ]
  },
  {
   "cell_type": "code",
   "execution_count": 13,
   "id": "22efd215",
   "metadata": {},
   "outputs": [
    {
     "data": {
      "text/plain": [
       "<seaborn.axisgrid.PairGrid at 0x2a632e4f070>"
      ]
     },
     "execution_count": 13,
     "metadata": {},
     "output_type": "execute_result"
    },
    {
     "data": {
      "image/png": "[encoded data removed]",
      "text/plain": [
       "<Figure size 540x540 with 12 Axes>"
      ]
     },
     "metadata": {
      "needs_background": "light"
     },
     "output_type": "display_data"
    }
   ],
   "source": [
    "#pair plot\n",
    "sns.pairplot(hills,diag_kind='kde')"
   ]
  },
  {
   "cell_type": "code",
   "execution_count": 17,
   "id": "22af6b65",
   "metadata": {},
   "outputs": [
    {
     "data": {
      "text/plain": [
       "<seaborn.axisgrid.JointGrid at 0x2a63511b460>"
      ]
     },
     "execution_count": 17,
     "metadata": {},
     "output_type": "execute_result"
    },
    {
     "data": {
      "image/png": "[encoded data removed]",
      "text/plain": [
       "<Figure size 432x432 with 3 Axes>"
      ]
     },
     "metadata": {
      "needs_background": "light"
     },
     "output_type": "display_data"
    }
   ],
   "source": [
    "sns.jointplot(x=hills.dist,y=hills.time,kind='kde')"
   ]
  },
  {
   "cell_type": "code",
   "execution_count": 18,
   "id": "1192cc06",
   "metadata": {},
   "outputs": [
    {
     "data": {
      "text/plain": [
       "<seaborn.axisgrid.JointGrid at 0x2a6353b5c40>"
      ]
     },
     "execution_count": 18,
     "metadata": {},
     "output_type": "execute_result"
    },
    {
     "data": {
      "image/png": "[encoded data removed]",
      "text/plain": [
       "<Figure size 432x432 with 3 Axes>"
      ]
     },
     "metadata": {
      "needs_background": "light"
     },
     "output_type": "display_data"
    }
   ],
   "source": [
    "sns.jointplot(x=hills.dist,y=hills.time,kind='reg')"
   ]
  },
  {
   "cell_type": "code",
   "execution_count": 19,
   "id": "fa73f1b4",
   "metadata": {},
   "outputs": [
    {
     "data": {
      "text/html": [
       "<div>\n",
       "<style scoped>\n",
       "    .dataframe tbody tr th:only-of-type {\n",
       "        vertical-align: middle;\n",
       "    }\n",
       "\n",
       "    .dataframe tbody tr th {\n",
       "        vertical-align: top;\n",
       "    }\n",
       "\n",
       "    .dataframe thead th {\n",
       "        text-align: right;\n",
       "    }\n",
       "</style>\n",
       "<table border=\"1\" class=\"dataframe\">\n",
       "  <thead>\n",
       "    <tr style=\"text-align: right;\">\n",
       "      <th></th>\n",
       "      <th>dist</th>\n",
       "      <th>climb</th>\n",
       "      <th>time</th>\n",
       "    </tr>\n",
       "  </thead>\n",
       "  <tbody>\n",
       "    <tr>\n",
       "      <th>dist</th>\n",
       "      <td>30.513866</td>\n",
       "      <td>5.834638e+03</td>\n",
       "      <td>254.194420</td>\n",
       "    </tr>\n",
       "    <tr>\n",
       "      <th>climb</th>\n",
       "      <td>5834.637815</td>\n",
       "      <td>2.621648e+06</td>\n",
       "      <td>65243.256739</td>\n",
       "    </tr>\n",
       "    <tr>\n",
       "      <th>time</th>\n",
       "      <td>254.194420</td>\n",
       "      <td>6.524326e+04</td>\n",
       "      <td>2504.073281</td>\n",
       "    </tr>\n",
       "  </tbody>\n",
       "</table>\n",
       "</div>"
      ],
      "text/plain": [
       "              dist         climb          time\n",
       "dist     30.513866  5.834638e+03    254.194420\n",
       "climb  5834.637815  2.621648e+06  65243.256739\n",
       "time    254.194420  6.524326e+04   2504.073281"
      ]
     },
     "execution_count": 19,
     "metadata": {},
     "output_type": "execute_result"
    }
   ],
   "source": [
    "#covarience\n",
    "hills.cov()"
   ]
  },
  {
   "cell_type": "code",
   "execution_count": 21,
   "id": "c44cd605",
   "metadata": {},
   "outputs": [
    {
     "data": {
      "text/plain": [
       "dist     3.051387e+01\n",
       "climb    2.621648e+06\n",
       "time     2.504073e+03\n",
       "dtype: float64"
      ]
     },
     "execution_count": 21,
     "metadata": {},
     "output_type": "execute_result"
    }
   ],
   "source": [
    "hills.var()"
   ]
  },
  {
   "cell_type": "code",
   "execution_count": 26,
   "id": "68536026",
   "metadata": {},
   "outputs": [
    {
     "data": {
      "text/plain": [
       "254.1944201680672"
      ]
     },
     "execution_count": 26,
     "metadata": {},
     "output_type": "execute_result"
    }
   ],
   "source": [
    "covdh=((hills.dist-hills.dist.mean())*(hills.time-hills.time.mean())).sum()/34\n",
    "covdh"
   ]
  },
  {
   "cell_type": "code",
   "execution_count": 27,
   "id": "d701f033",
   "metadata": {},
   "outputs": [
    {
     "data": {
      "text/plain": [
       "5834.637815126051"
      ]
     },
     "execution_count": 27,
     "metadata": {},
     "output_type": "execute_result"
    }
   ],
   "source": [
    "covdt=((hills.dist-hills.dist.mean())*(hills.climb-hills.climb.mean())).sum()/34\n",
    "covdt"
   ]
  },
  {
   "cell_type": "code",
   "execution_count": 28,
   "id": "e889d617",
   "metadata": {},
   "outputs": [
    {
     "data": {
      "text/html": [
       "<div>\n",
       "<style scoped>\n",
       "    .dataframe tbody tr th:only-of-type {\n",
       "        vertical-align: middle;\n",
       "    }\n",
       "\n",
       "    .dataframe tbody tr th {\n",
       "        vertical-align: top;\n",
       "    }\n",
       "\n",
       "    .dataframe thead th {\n",
       "        text-align: right;\n",
       "    }\n",
       "</style>\n",
       "<table border=\"1\" class=\"dataframe\">\n",
       "  <thead>\n",
       "    <tr style=\"text-align: right;\">\n",
       "      <th></th>\n",
       "      <th>dist</th>\n",
       "      <th>climb</th>\n",
       "      <th>time</th>\n",
       "    </tr>\n",
       "  </thead>\n",
       "  <tbody>\n",
       "    <tr>\n",
       "      <th>dist</th>\n",
       "      <td>1.000000</td>\n",
       "      <td>0.652346</td>\n",
       "      <td>0.919589</td>\n",
       "    </tr>\n",
       "    <tr>\n",
       "      <th>climb</th>\n",
       "      <td>0.652346</td>\n",
       "      <td>1.000000</td>\n",
       "      <td>0.805239</td>\n",
       "    </tr>\n",
       "    <tr>\n",
       "      <th>time</th>\n",
       "      <td>0.919589</td>\n",
       "      <td>0.805239</td>\n",
       "      <td>1.000000</td>\n",
       "    </tr>\n",
       "  </tbody>\n",
       "</table>\n",
       "</div>"
      ],
      "text/plain": [
       "           dist     climb      time\n",
       "dist   1.000000  0.652346  0.919589\n",
       "climb  0.652346  1.000000  0.805239\n",
       "time   0.919589  0.805239  1.000000"
      ]
     },
     "execution_count": 28,
     "metadata": {},
     "output_type": "execute_result"
    }
   ],
   "source": [
    "#correlation\n",
    "hills.corr()"
   ]
  },
  {
   "cell_type": "code",
   "execution_count": 33,
   "id": "5dda1410",
   "metadata": {},
   "outputs": [
    {
     "data": {
      "text/plain": [
       "0.9195892419137575"
      ]
     },
     "execution_count": 33,
     "metadata": {},
     "output_type": "execute_result"
    }
   ],
   "source": [
    "corrdt=covdh/(hills.dist.std()*hills.time.std())\n",
    "corrdt"
   ]
  },
  {
   "cell_type": "code",
   "execution_count": null,
   "id": "61b16577",
   "metadata": {},
   "outputs": [],
   "source": []
  }
 ],
 "metadata": {
  "kernelspec": {
   "display_name": "Python 3 (ipykernel)",
   "language": "python",
   "name": "python3"
  },
  "language_info": {
   "codemirror_mode": {
    "name": "ipython",
    "version": 3
   },
   "file_extension": ".py",
   "mimetype": "text/x-python",
   "name": "python",
   "nbconvert_exporter": "python",
   "pygments_lexer": "ipython3",
   "version": "3.9.12"
  }
 },
 "nbformat": 4,
 "nbformat_minor": 5
}
